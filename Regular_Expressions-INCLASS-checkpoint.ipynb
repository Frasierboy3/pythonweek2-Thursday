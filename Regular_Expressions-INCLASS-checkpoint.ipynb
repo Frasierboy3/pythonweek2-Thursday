{
 "cells": [
  {
   "cell_type": "markdown",
   "metadata": {},
   "source": [
    "# Regular Expressions"
   ]
  },
  {
   "cell_type": "markdown",
   "metadata": {},
   "source": [
    "# Tasks today:\n",
    "1) <b>Importing</b> <br>\n",
    "2) <b>Using Regular Expressions</b> <br>\n",
    " &nbsp;&nbsp;&nbsp;&nbsp; a) re.compile() <br>\n",
    " &nbsp;&nbsp;&nbsp;&nbsp; b) re.match() <br>\n",
    " &nbsp;&nbsp;&nbsp;&nbsp; c) re.findall() <br>\n",
    " &nbsp;&nbsp;&nbsp;&nbsp; d) re.search() <br>\n",
    "3) <b>Sets</b> <br>\n",
    " &nbsp;&nbsp;&nbsp;&nbsp; a) Integer Ranges <br>\n",
    " &nbsp;&nbsp;&nbsp;&nbsp; b) Character Ranges <br>\n",
    "4) <b>Counting Occurences</b> <br>\n",
    " &nbsp;&nbsp;&nbsp;&nbsp; a) {x} <br>\n",
    " &nbsp;&nbsp;&nbsp;&nbsp; b) {, x} <br>\n",
    " &nbsp;&nbsp;&nbsp;&nbsp; c) {?} <br>\n",
    " &nbsp;&nbsp;&nbsp;&nbsp; d) {*} <br>\n",
    " &nbsp;&nbsp;&nbsp;&nbsp; e) {+} <br>\n",
    "5) <b>In-Class Exercise #1</b> <br>\n",
    "6) <b>Escaping Characters</b> <br>\n",
    "7) <b>Grouping</b> <br>\n",
    "8) <b>In-Class Exercise #2</b> <br>\n",
    "9) <b>Opening a File</b> <br>\n",
    " &nbsp;&nbsp;&nbsp;&nbsp; a) open() <br>\n",
    " &nbsp;&nbsp;&nbsp;&nbsp; b) with open() <br>\n",
    " &nbsp;&nbsp;&nbsp;&nbsp; c) re.match() <br>\n",
    " &nbsp;&nbsp;&nbsp;&nbsp; d) re.search() <br>\n",
    " &nbsp;&nbsp;&nbsp;&nbsp; e) Store the String in a Variable <br>\n",
    "10) <b>Regex Project</b> <br>"
   ]
  },
  {
   "cell_type": "markdown",
   "metadata": {},
   "source": [
    "### Importing <br>\n",
    "<p>Regular Expressions are universal throughout most programming languages... They are generally imported through the module 're'.</p>"
   ]
  },
  {
   "cell_type": "code",
   "execution_count": 1,
   "metadata": {},
   "outputs": [],
   "source": [
    "# import re\n",
    "import re\n"
   ]
  },
  {
   "cell_type": "markdown",
   "metadata": {},
   "source": [
    "### Using Regular Expressions <br>\n",
    "<p>Regular expressions give us the ability to search for patterns within text, strings, files, etc. They serve several uses, such as; security measures, searching, filtering, pattern recognition, and more...</p>"
   ]
  },
  {
   "cell_type": "markdown",
   "metadata": {},
   "source": [
    "##### re.compile()"
   ]
  },
  {
   "cell_type": "code",
   "execution_count": 5,
   "metadata": {},
   "outputs": [
    {
     "name": "stdout",
     "output_type": "stream",
     "text": [
      "re.compile('abcd')\n",
      "<class 're.Pattern'>\n"
     ]
    }
   ],
   "source": [
    "# using compile, pre determines the string to be used in regular expression methods\n",
    "\n",
    "pat = re.compile('abcd')\n",
    "print(pat)\n",
    "print(type(pat))"
   ]
  },
  {
   "cell_type": "markdown",
   "metadata": {},
   "source": [
    "##### re.match()"
   ]
  },
  {
   "cell_type": "code",
   "execution_count": 11,
   "metadata": {},
   "outputs": [
    {
     "name": "stdout",
     "output_type": "stream",
     "text": [
      "<re.Match object; span=(0, 4), match='abcd'>\n",
      "(0, 4)\n",
      "abcd\n",
      "abcd\n"
     ]
    }
   ],
   "source": [
    "sentence = 'abcdefg1234567siudhiufhishfi'\n",
    "\n",
    "my_match = pat.match(sentence)\n",
    "print(my_match)\n",
    "# Accessing the span of the match\n",
    "print(my_match.span())\n",
    "start, end = my_match.span()\n",
    "print(sentence[my_match.span()[0]: my_match.span()[1]])\n",
    "print(sentence[start:end])"
   ]
  },
  {
   "cell_type": "markdown",
   "metadata": {},
   "source": [
    "##### re.findall()"
   ]
  },
  {
   "cell_type": "code",
   "execution_count": 15,
   "metadata": {},
   "outputs": [
    {
     "name": "stdout",
     "output_type": "stream",
     "text": [
      "['abcd', 'abcd', 'abcd']\n"
     ]
    }
   ],
   "source": [
    "found = pat.findall('123abcd abcd123 abc abcaba abcd 123')\n",
    "print(found)"
   ]
  },
  {
   "cell_type": "markdown",
   "metadata": {},
   "source": [
    "##### re.search()"
   ]
  },
  {
   "cell_type": "code",
   "execution_count": 14,
   "metadata": {},
   "outputs": [
    {
     "name": "stdout",
     "output_type": "stream",
     "text": [
      "<re.Match object; span=(1, 5), match='abcd'>\n",
      "(1, 5)\n",
      "abcd\n",
      "abcd\n"
     ]
    }
   ],
   "source": [
    "sentence = 'zabcdefg1234567siudhiufhishfi'\n",
    "\n",
    "my_match = pat.search(sentence)\n",
    "print(my_match)\n",
    "# Accessing the span of the match\n",
    "print(my_match.span())\n",
    "start, end = my_match.span()\n",
    "\n",
    "print(sentence[my_match.span()[0]: my_match.span()[1]])\n",
    "print(sentence[start:end])"
   ]
  },
  {
   "cell_type": "markdown",
   "metadata": {},
   "source": [
    "### Sets <br>\n",
    "<p>The following cells will allow you to use regular expressions to search for certain values within a range such as numbers 1 through 4.</p>"
   ]
  },
  {
   "cell_type": "markdown",
   "metadata": {},
   "source": [
    "##### [a-z] or [A-Z] - any lowercase/uppercase letters from a to z<br/>[^2] - anything that's not 2"
   ]
  },
  {
   "cell_type": "markdown",
   "metadata": {},
   "source": [
    "##### Integer Ranges"
   ]
  },
  {
   "cell_type": "code",
   "execution_count": 20,
   "metadata": {},
   "outputs": [
    {
     "name": "stdout",
     "output_type": "stream",
     "text": [
      "['137', '222']\n"
     ]
    }
   ],
   "source": [
    "pat_int = re.compile('[1-3][1-7][1-9]')\n",
    "\n",
    "match = pat_int.findall('1379222')\n",
    "print(match)"
   ]
  },
  {
   "cell_type": "markdown",
   "metadata": {},
   "source": [
    "##### Character Ranges"
   ]
  },
  {
   "cell_type": "code",
   "execution_count": 25,
   "metadata": {},
   "outputs": [
    {
     "name": "stdout",
     "output_type": "stream",
     "text": [
      "['He', 'll', 'Th', 'er', 'Mr', 'An', 'de']\n"
     ]
    }
   ],
   "source": [
    "pat = re.compile('[A-Za-m1-9][a-z]')\n",
    "found = pat.findall('Hello There Mr.Anderson')\n",
    "print(found)"
   ]
  },
  {
   "cell_type": "markdown",
   "metadata": {},
   "source": [
    "### Counting Occurences"
   ]
  },
  {
   "cell_type": "markdown",
   "metadata": {},
   "source": [
    "##### {x} - something that occurs {num_of_times}"
   ]
  },
  {
   "cell_type": "code",
   "execution_count": 27,
   "metadata": {},
   "outputs": [
    {
     "name": "stdout",
     "output_type": "stream",
     "text": [
      "['Hell', 'Ther', 'Mr', 'Ande']\n"
     ]
    }
   ],
   "source": [
    "pat =re.compile('[A-Z][a-z]{1,3}')\n",
    "found = pat.findall('Hello There Mr.Anderson')\n",
    "print(found)"
   ]
  },
  {
   "cell_type": "markdown",
   "metadata": {},
   "source": [
    "##### {x, x} - something that occurs between x and x times"
   ]
  },
  {
   "cell_type": "code",
   "execution_count": null,
   "metadata": {},
   "outputs": [],
   "source": [
    "pat =re.compile('[A-Z][a-z]{1,3}')\n",
    "found = pat.findall('Hello There Mr.Anderson')\n",
    "print(found)"
   ]
  },
  {
   "cell_type": "markdown",
   "metadata": {},
   "source": [
    "##### ? - something that occurs 0 or 1 time"
   ]
  },
  {
   "cell_type": "code",
   "execution_count": 32,
   "metadata": {},
   "outputs": [
    {
     "name": "stdout",
     "output_type": "stream",
     "text": [
      "['Ms', 'Mrs']\n"
     ]
    }
   ],
   "source": [
    "pat = re.compile('Mr?s')\n",
    "found = pat.findall('Hello There Mr.Anderson, it is Ms.Smith, is Mrs. Anderson home?')\n",
    "print(found)"
   ]
  },
  {
   "cell_type": "markdown",
   "metadata": {},
   "source": [
    "##### * - something that occurs at least 0 times"
   ]
  },
  {
   "cell_type": "code",
   "execution_count": 31,
   "metadata": {},
   "outputs": [
    {
     "name": "stdout",
     "output_type": "stream",
     "text": [
      "['Ms', 'Mrrrrrrrrrrrrrrrrrrrrrs']\n"
     ]
    }
   ],
   "source": [
    "pat = re.compile('Mr*s')\n",
    "found = pat.findall('Hello There Mr.Anderson, it is Ms.Smith, is Mrrrrrrrrrrrrrrrrrrrrrs. Anderson home?')\n",
    "print(found)"
   ]
  },
  {
   "cell_type": "markdown",
   "metadata": {},
   "source": [
    "##### + - something that occurs at least once"
   ]
  },
  {
   "cell_type": "code",
   "execution_count": 35,
   "metadata": {},
   "outputs": [
    {
     "name": "stdout",
     "output_type": "stream",
     "text": [
      "['Mrrrrs']\n"
     ]
    }
   ],
   "source": [
    "pat = re.compile('Mr+s')\n",
    "found = pat.findall('Hello There Mr.Anderson, it is Ms.Smith, is Mrrrrs. Anderson home?')\n",
    "print(found)"
   ]
  },
  {
   "cell_type": "markdown",
   "metadata": {},
   "source": [
    "##### In-class exercise 1: \n",
    "\n",
    "Use a regular expression to find every number in the given string"
   ]
  },
  {
   "cell_type": "code",
   "execution_count": 43,
   "metadata": {},
   "outputs": [
    {
     "name": "stdout",
     "output_type": "stream",
     "text": [
      "['10909090', '1', '2']\n"
     ]
    }
   ],
   "source": [
    "my_string = \"This string has 10909090 numbers, but it is only 1 string. I hope you solve this 2day.\"\n",
    "\n",
    "# Output: ['10909090','1',2]\n",
    "pat= re.compile('[0-9]+')\n",
    "found = pat.findall(my_string)\n",
    "\n",
    "print(found)\n"
   ]
  },
  {
   "cell_type": "markdown",
   "metadata": {},
   "source": [
    "### Escaping Characters"
   ]
  },
  {
   "cell_type": "markdown",
   "metadata": {},
   "source": [
    "##### \\w - look for any Unicode character<br/>\\W - look for anything that isnt a Unicode character\n",
    "\n",
    "[History on Unicode](http://unicode.org/standard/WhatIsUnicode.html)\n",
    "\n",
    "[More on Unicode Characters](https://en.wikipedia.org/wiki/List_of_Unicode_characters)"
   ]
  },
  {
   "cell_type": "code",
   "execution_count": 50,
   "metadata": {},
   "outputs": [
    {
     "name": "stdout",
     "output_type": "stream",
     "text": [
      "['This', 'is', 'a', 'sentence!', 'Hello', '1234', '12']\n",
      "[' ', ' ', ' ', '! ', '? ', '-']\n"
     ]
    }
   ],
   "source": [
    "pat1 = re.compile('[\\w!]+')\n",
    "pat2 = re.compile('\\W+')\n",
    "\n",
    "found1= pat1.findall('This is a sentence! Hello? 1234-12')\n",
    "found2= pat2.findall('This is a sentence! Hello? 1234-12')\n",
    "print(found1)\n",
    "print(found2)"
   ]
  },
  {
   "cell_type": "markdown",
   "metadata": {},
   "source": [
    "##### \\d - look for any digit 0-9<br/>\\D - look for anything that isnt a digit"
   ]
  },
  {
   "cell_type": "code",
   "execution_count": 54,
   "metadata": {},
   "outputs": [
    {
     "name": "stdout",
     "output_type": "stream",
     "text": [
      "['3rd', '10th', '2022']\n",
      "['Today is the ', 'th day of the ', 'th month. The year is ', '. ']\n"
     ]
    }
   ],
   "source": [
    "pat3 = re.compile('\\d+[thsrdn]{0,2}')\n",
    "pat4 = re.compile('\\D+')\n",
    "\n",
    "found3= pat3.findall('Today is the 6th day of the 10th month. The year is 2022. ')\n",
    "found4= pat4.findall('Today is the 6th day of the 10th month. The year is 2022. ')\n",
    "print(found3)\n",
    "print(found4)"
   ]
  },
  {
   "cell_type": "markdown",
   "metadata": {},
   "source": [
    "##### \\s - look for any white space<br/>\\S - look for anything that isnt whitespace"
   ]
  },
  {
   "cell_type": "code",
   "execution_count": 56,
   "metadata": {},
   "outputs": [
    {
     "name": "stdout",
     "output_type": "stream",
     "text": [
      "[' ', ' ', ' ', ' ', ' \\n \\t ', ' ', ' ', ' ', ' ', ' ', ' ', ' ', ' ']\n",
      "['Today', 'is', 'the', '6th', 'day', 'of', 'the', '10th', 'month.', 'The', 'year', 'is', '2022.']\n"
     ]
    }
   ],
   "source": [
    "pat5 = re.compile('\\s+')\n",
    "pat6 = re.compile('\\S+')\n",
    "\n",
    "found5= pat5.findall('Today is the 6th day \\n \\t of the 10th month. The year is 2022. ')\n",
    "found6 = pat6.findall('Today is the 6th day of the 10th month. The year is 2022. ')\n",
    "print(found5)\n",
    "print(found6)"
   ]
  },
  {
   "cell_type": "markdown",
   "metadata": {},
   "source": [
    "##### \\b - look for boundaries or edges of a word<br/>\\B - look for anything that isnt a boundary"
   ]
  },
  {
   "cell_type": "code",
   "execution_count": 67,
   "metadata": {},
   "outputs": [
    {
     "name": "stdout",
     "output_type": "stream",
     "text": [
      "['shoha']\n",
      "[]\n"
     ]
    }
   ],
   "source": [
    "bound = re.compile(r'\\bshoha\\b')\n",
    "not_bound = re.compile(r'\\Bshoha\\B')\n",
    "\n",
    "found1 = bound.findall('  shoha')\n",
    "found2 = not_bound.findall('sshoha')\n",
    "\n",
    "print(found1)\n",
    "print(found2)"
   ]
  },
  {
   "cell_type": "markdown",
   "metadata": {},
   "source": [
    "### Grouping"
   ]
  },
  {
   "cell_type": "code",
   "execution_count": 121,
   "metadata": {},
   "outputs": [
    {
     "name": "stdout",
     "output_type": "stream",
     "text": [
      "[('Max', 'Smith'), ('Sam', 'Darnold'), ('LeBron', 'James'), ('Michael', 'Jordan'), ('Patrick', 'McCormick')]\n",
      "Max\n",
      "Smith\n",
      "Max Smith\n",
      "Max Smith\n",
      "not a valid name\n",
      "Sam\n",
      "Darnold\n",
      "Sam Darnold\n",
      "Sam Darnold\n",
      "LeBron\n",
      "James\n",
      "LeBron James\n",
      "LeBron James\n",
      "Michael\n",
      "Jordan\n",
      "Michael Jordan\n",
      "Michael Jordan\n",
      "Patrick\n",
      "McCormick\n",
      "Patrick McCormick\n",
      "Patrick McCormick\n"
     ]
    }
   ],
   "source": [
    "my_str = 'Max Smith, aaron rodgers, Sam Darnold, LeBron James, Michael Jordan, Patrick McCormick'\n",
    "\n",
    "name_pat = re.compile('(?P<first>[A-Z][a-zA-z]+) (?P<last>[A-Z][a-zA-Z]+)')\n",
    "found = name_pat.findall(my_str)\n",
    "print(found)\n",
    "\n",
    "my_list = my_str.split(', ')\n",
    "for name in my_list:\n",
    "    match = name_pat.match(name)\n",
    "    if match:\n",
    "        print(match.group(1))\n",
    "        print(match.group(2))\n",
    "        print(match.group())\n",
    "        print(match.group())\n",
    "    else:\n",
    "        \n",
    "        print('not a valid name')"
   ]
  },
  {
   "cell_type": "markdown",
   "metadata": {},
   "source": [
    "##### In-class Exercise 2:\n",
    "\n",
    "Write a function using regular expressions to find the domain name in the given email addresses (and return None for the invalid email addresses)<br><b>HINT: Use '|' for either or</b>"
   ]
  },
  {
   "cell_type": "code",
   "execution_count": 99,
   "metadata": {},
   "outputs": [
    {
     "name": "stdout",
     "output_type": "stream",
     "text": [
      "None\n",
      "<re.Match object; span=(0, 24), match='pocohontas1776@gmail.com'>\n",
      "None\n",
      "<re.Match object; span=(0, 23), match='yourfavoriteband@g6.org'>\n",
      "None\n"
     ]
    }
   ],
   "source": [
    "my_emails = [\"jordanw@codingtemple.orgcom\", \"pocohontas1776@gmail.com\", \"helloworld@aol..com\",\n",
    "             \"yourfavoriteband@g6.org\", \"@codingtemple.com\"]\n",
    "\n",
    "# You can also use the $ at the end of your compile expression -- this stops the search\n",
    "\n",
    "#.com OR .org => com|org\n",
    "\n",
    "#Expected output:\n",
    "#None\n",
    "#pocohontas1776@gmail.com\n",
    "#None\n",
    "#yourfavoriteband@g6.org\n",
    "#None\n",
    "pat1 = re.compile('(?P<username>[a-z]+[a-z0-9]*)@(?P<domain>[a-z]+[0-9a-z]*).(?P<suffix>com|edu|org|gov)$')\n"
   ]
  },
  {
   "cell_type": "markdown",
   "metadata": {},
   "source": [
    "### Opening a File <br>\n",
    "<p>Python gives us a couple ways to import files, below are the two used most often.</p>"
   ]
  },
  {
   "cell_type": "markdown",
   "metadata": {},
   "source": [
    "##### open()"
   ]
  },
  {
   "cell_type": "code",
   "execution_count": 103,
   "metadata": {},
   "outputs": [
    {
     "name": "stdout",
     "output_type": "stream",
     "text": [
      "<_io.TextIOWrapper name='names.txt' mode='r' encoding='cp1252'>\n",
      "<class '_io.TextIOWrapper'>\n",
      "Hawkins, Derek\tderek@codingtemple.com\t(555) 555-5555\tTeacher, Coding Temple\t@derekhawkins\n",
      "Zhai, Mo\tmozhai@codingtemple.com\t(555) 555-5554\tTeacher, Coding Temple\n",
      "Johnson, Joe\tjoejohnson@codingtemple.com\t\tJohson, Joe\n",
      "Osterberg, Sven-Erik\tgovernor@norrbotten.co.se\t\tGovernor, Norrbotten\t@sverik\n",
      ", Tim\ttim@killerrabbit.com\t\tEnchanter, Killer Rabbit Cave\n",
      "Butz, Ryan\tryanb@codingtemple.com\t(555) 555-5543\tCEO, Coding Temple\t@ryanbutz\n",
      "Doctor, The\tdoctor+companion@tardis.co.uk\t\tTime Lord, Gallifrey\n",
      "Exampleson, Example\tme@example.com\t555-555-5552\tExample, Example Co.\t@example\n",
      "Pael, Ripal\tripalp@codingtemple.com\t(555) 555-5553\tTeacher, Coding Temple\t@ripalp\n",
      "Vader, Darth\tdarth-vader@empire.gov\t(555) 555-4444\tSith Lord, Galactic Empire\t@darthvader\n",
      "Fernandez de la Vega Sanz, Maria Teresa\tmtfvs@spain.gov\t\tFirst Deputy Prime Minister, Spanish Gov\n",
      "\n"
     ]
    }
   ],
   "source": [
    "f = open('names.txt')\n",
    "print(f)\n",
    "print(type(f))\n",
    "# data = f.read()\n",
    "lines = f.readlines()\n",
    "f.close()\n",
    "print(data)\n"
   ]
  },
  {
   "cell_type": "markdown",
   "metadata": {},
   "source": [
    "##### with open()"
   ]
  },
  {
   "cell_type": "code",
   "execution_count": 106,
   "metadata": {},
   "outputs": [
    {
     "name": "stdout",
     "output_type": "stream",
     "text": [
      "Hawkins, Derek\tderek@codingtemple.com\t(555) 555-5555\tTeacher, Coding Temple\t@derekhawkins\n",
      "Zhai, Mo\tmozhai@codingtemple.com\t(555) 555-5554\tTeacher, Coding Temple\n",
      "Johnson, Joe\tjoejohnson@codingtemple.com\t\tJohson, Joe\n",
      "Osterberg, Sven-Erik\tgovernor@norrbotten.co.se\t\tGovernor, Norrbotten\t@sverik\n",
      ", Tim\ttim@killerrabbit.com\t\tEnchanter, Killer Rabbit Cave\n",
      "Butz, Ryan\tryanb@codingtemple.com\t(555) 555-5543\tCEO, Coding Temple\t@ryanbutz\n",
      "Doctor, The\tdoctor+companion@tardis.co.uk\t\tTime Lord, Gallifrey\n",
      "Exampleson, Example\tme@example.com\t555-555-5552\tExample, Example Co.\t@example\n",
      "Pael, Ripal\tripalp@codingtemple.com\t(555) 555-5553\tTeacher, Coding Temple\t@ripalp\n",
      "Vader, Darth\tdarth-vader@empire.gov\t(555) 555-4444\tSith Lord, Galactic Empire\t@darthvader\n",
      "Fernandez de la Vega Sanz, Maria Teresa\tmtfvs@spain.gov\t\tFirst Deputy Prime Minister, Spanish Gov\n",
      "\n"
     ]
    }
   ],
   "source": [
    "with open('names.txt') as f:\n",
    "    data = f.read()\n",
    "    print(data)"
   ]
  },
  {
   "cell_type": "markdown",
   "metadata": {},
   "source": [
    "##### re.match()"
   ]
  },
  {
   "cell_type": "code",
   "execution_count": 107,
   "metadata": {},
   "outputs": [
    {
     "name": "stdout",
     "output_type": "stream",
     "text": [
      "<re.Match object; span=(0, 11), match='Hawkins, De'>\n"
     ]
    }
   ],
   "source": [
    "# pat = re.compile('stringgoeshere')\n",
    "# match  = pat.match('string')\n",
    "# this is the way we have been doing it all day \n",
    "#re.match(PATTERN, STRING)\n",
    "print(re.match('[A-Z][a-z]+, [A-Z][a-z]', data))"
   ]
  },
  {
   "cell_type": "markdown",
   "metadata": {},
   "source": [
    "##### re.search()"
   ]
  },
  {
   "cell_type": "code",
   "execution_count": 109,
   "metadata": {},
   "outputs": [
    {
     "name": "stdout",
     "output_type": "stream",
     "text": [
      "<re.Match object; span=(76, 89), match='@derekhawkins'>\n"
     ]
    }
   ],
   "source": [
    "print(re.search(r'\\B@[a-zA-Z0-9]+', data))"
   ]
  },
  {
   "cell_type": "markdown",
   "metadata": {},
   "source": [
    "##### Store the String to a Variable"
   ]
  },
  {
   "cell_type": "code",
   "execution_count": 110,
   "metadata": {},
   "outputs": [
    {
     "name": "stdout",
     "output_type": "stream",
     "text": [
      "what are you looking for?[A-Za-z]\n",
      "['H', 'a', 'w', 'k', 'i', 'n', 's', 'D', 'e', 'r', 'e', 'k', 'd', 'e', 'r', 'e', 'k', 'c', 'o', 'd', 'i', 'n', 'g', 't', 'e', 'm', 'p', 'l', 'e', 'c', 'o', 'm', 'T', 'e', 'a', 'c', 'h', 'e', 'r', 'C', 'o', 'd', 'i', 'n', 'g', 'T', 'e', 'm', 'p', 'l', 'e', 'd', 'e', 'r', 'e', 'k', 'h', 'a', 'w', 'k', 'i', 'n', 's', 'Z', 'h', 'a', 'i', 'M', 'o', 'm', 'o', 'z', 'h', 'a', 'i', 'c', 'o', 'd', 'i', 'n', 'g', 't', 'e', 'm', 'p', 'l', 'e', 'c', 'o', 'm', 'T', 'e', 'a', 'c', 'h', 'e', 'r', 'C', 'o', 'd', 'i', 'n', 'g', 'T', 'e', 'm', 'p', 'l', 'e', 'J', 'o', 'h', 'n', 's', 'o', 'n', 'J', 'o', 'e', 'j', 'o', 'e', 'j', 'o', 'h', 'n', 's', 'o', 'n', 'c', 'o', 'd', 'i', 'n', 'g', 't', 'e', 'm', 'p', 'l', 'e', 'c', 'o', 'm', 'J', 'o', 'h', 's', 'o', 'n', 'J', 'o', 'e', 'O', 's', 't', 'e', 'r', 'b', 'e', 'r', 'g', 'S', 'v', 'e', 'n', 'E', 'r', 'i', 'k', 'g', 'o', 'v', 'e', 'r', 'n', 'o', 'r', 'n', 'o', 'r', 'r', 'b', 'o', 't', 't', 'e', 'n', 'c', 'o', 's', 'e', 'G', 'o', 'v', 'e', 'r', 'n', 'o', 'r', 'N', 'o', 'r', 'r', 'b', 'o', 't', 't', 'e', 'n', 's', 'v', 'e', 'r', 'i', 'k', 'T', 'i', 'm', 't', 'i', 'm', 'k', 'i', 'l', 'l', 'e', 'r', 'r', 'a', 'b', 'b', 'i', 't', 'c', 'o', 'm', 'E', 'n', 'c', 'h', 'a', 'n', 't', 'e', 'r', 'K', 'i', 'l', 'l', 'e', 'r', 'R', 'a', 'b', 'b', 'i', 't', 'C', 'a', 'v', 'e', 'B', 'u', 't', 'z', 'R', 'y', 'a', 'n', 'r', 'y', 'a', 'n', 'b', 'c', 'o', 'd', 'i', 'n', 'g', 't', 'e', 'm', 'p', 'l', 'e', 'c', 'o', 'm', 'C', 'E', 'O', 'C', 'o', 'd', 'i', 'n', 'g', 'T', 'e', 'm', 'p', 'l', 'e', 'r', 'y', 'a', 'n', 'b', 'u', 't', 'z', 'D', 'o', 'c', 't', 'o', 'r', 'T', 'h', 'e', 'd', 'o', 'c', 't', 'o', 'r', 'c', 'o', 'm', 'p', 'a', 'n', 'i', 'o', 'n', 't', 'a', 'r', 'd', 'i', 's', 'c', 'o', 'u', 'k', 'T', 'i', 'm', 'e', 'L', 'o', 'r', 'd', 'G', 'a', 'l', 'l', 'i', 'f', 'r', 'e', 'y', 'E', 'x', 'a', 'm', 'p', 'l', 'e', 's', 'o', 'n', 'E', 'x', 'a', 'm', 'p', 'l', 'e', 'm', 'e', 'e', 'x', 'a', 'm', 'p', 'l', 'e', 'c', 'o', 'm', 'E', 'x', 'a', 'm', 'p', 'l', 'e', 'E', 'x', 'a', 'm', 'p', 'l', 'e', 'C', 'o', 'e', 'x', 'a', 'm', 'p', 'l', 'e', 'P', 'a', 'e', 'l', 'R', 'i', 'p', 'a', 'l', 'r', 'i', 'p', 'a', 'l', 'p', 'c', 'o', 'd', 'i', 'n', 'g', 't', 'e', 'm', 'p', 'l', 'e', 'c', 'o', 'm', 'T', 'e', 'a', 'c', 'h', 'e', 'r', 'C', 'o', 'd', 'i', 'n', 'g', 'T', 'e', 'm', 'p', 'l', 'e', 'r', 'i', 'p', 'a', 'l', 'p', 'V', 'a', 'd', 'e', 'r', 'D', 'a', 'r', 't', 'h', 'd', 'a', 'r', 't', 'h', 'v', 'a', 'd', 'e', 'r', 'e', 'm', 'p', 'i', 'r', 'e', 'g', 'o', 'v', 'S', 'i', 't', 'h', 'L', 'o', 'r', 'd', 'G', 'a', 'l', 'a', 'c', 't', 'i', 'c', 'E', 'm', 'p', 'i', 'r', 'e', 'd', 'a', 'r', 't', 'h', 'v', 'a', 'd', 'e', 'r', 'F', 'e', 'r', 'n', 'a', 'n', 'd', 'e', 'z', 'd', 'e', 'l', 'a', 'V', 'e', 'g', 'a', 'S', 'a', 'n', 'z', 'M', 'a', 'r', 'i', 'a', 'T', 'e', 'r', 'e', 's', 'a', 'm', 't', 'f', 'v', 's', 's', 'p', 'a', 'i', 'n', 'g', 'o', 'v', 'F', 'i', 'r', 's', 't', 'D', 'e', 'p', 'u', 't', 'y', 'P', 'r', 'i', 'm', 'e', 'M', 'i', 'n', 'i', 's', 't', 'e', 'r', 'S', 'p', 'a', 'n', 'i', 's', 'h', 'G', 'o', 'v']\n"
     ]
    }
   ],
   "source": [
    "pattern = input('what are you looking for?')\n",
    "found = re.findall(pattern,data)\n",
    "print(found)"
   ]
  },
  {
   "cell_type": "markdown",
   "metadata": {},
   "source": [
    "### In-Class Exercise #3 <br>\n",
    "<p>Print each persons name and twitter handle, using groups, should look like:</p>\n",
    "<p>==============<br>\n",
    "   Full Name / Twitter<br>\n",
    "   ==============</p>\n",
    "Derek Hawkins / @derekhawkins\n",
    "\n",
    " Erik Sven-Osterberg / @sverik\n",
    "\n",
    " Ryan Butz / @ryanbutz\n",
    "\n",
    " Example Exampleson / @example\n",
    "\n",
    " Ripal Pael / @ripalp\n",
    "\n",
    " Darth Vader / @darthvader"
   ]
  },
  {
   "cell_type": "code",
   "execution_count": 135,
   "metadata": {
    "scrolled": true
   },
   "outputs": [
    {
     "name": "stdout",
     "output_type": "stream",
     "text": [
      "\n",
      " Derek Hawkins / @derekhawkins\n",
      "\n",
      " Erik Sven-Osterberg / @sverik\n",
      "\n",
      " Ryan Butz / @ryanbutz\n",
      "\n",
      " Example Exampleson / @example\n",
      "\n",
      " Ripal Pael / @ripalp\n",
      "\n",
      " Darth Vader / @darthvader\n"
     ]
    }
   ],
   "source": [
    "with open(\"names.txt\")as f:\n",
    "    data = f.readlines()\n",
    "\n",
    "pat = re.compile(\"([A-Z][a-z]+), ([\\w -]*)([A-Z][a-z]+).*\\s(@[a-zA-Z0-9]+$)\")\n",
    "\n",
    "for person in data:\n",
    "    user = pat.search(person)\n",
    "    \n",
    "    if user:\n",
    "        print('\\n', f\"{user.group(3)} {user.group(2)}{user.group(1)} / {user.group(4)}\")"
   ]
  },
  {
   "cell_type": "markdown",
   "metadata": {},
   "source": [
    "### Regex project\n",
    "\n",
    "Use python to read the file regex_test.txt and print the last name on each line using regular expressions and groups (return None for names with no first and last name, or names that aren't properly capitalized)\n",
    "##### Hint: use with open() and readlines()"
   ]
  },
  {
   "cell_type": "code",
   "execution_count": null,
   "metadata": {},
   "outputs": [],
   "source": [
    "\"\"\"\n",
    "Expected Output\n",
    "Abraham Lincoln\n",
    "Andrew P Garfield\n",
    "Connor Milliken\n",
    "Jordan Alexander Williams\n",
    "None\n",
    "None\n",
    "\"\"\""
   ]
  },
  {
   "cell_type": "code",
   "execution_count": 198,
   "metadata": {},
   "outputs": [
    {
     "name": "stdout",
     "output_type": "stream",
     "text": [
      "Abraham Lincoln\n",
      "\n",
      "Andrew P Garfield\n",
      "\n",
      "Connor Milliken\n",
      "\n",
      "Jordan Alexander Williams\n",
      "\n",
      "None\n",
      "None\n"
     ]
    }
   ],
   "source": [
    "with open(\"regex_test.txt\")as f:\n",
    "    data = f.readlines()\n",
    "    \n",
    "    \n",
    "pat = re.compile('([A-Z]?[a-zA-Za-z]+) ([A-Z][A-Za-z]+)')\n",
    "\n",
    "for person in data:\n",
    "    user = pat.search(person)\n",
    "    if user:\n",
    "        print(person)\n",
    "    else:\n",
    "        print('None')"
   ]
  },
  {
   "cell_type": "code",
   "execution_count": null,
   "metadata": {},
   "outputs": [],
   "source": []
  }
 ],
 "metadata": {
  "kernelspec": {
   "display_name": "Python 3.9.13 64-bit (microsoft store)",
   "language": "python",
   "name": "python3"
  },
  "language_info": {
   "codemirror_mode": {
    "name": "ipython",
    "version": 3
   },
   "file_extension": ".py",
   "mimetype": "text/x-python",
   "name": "python",
   "nbconvert_exporter": "python",
   "pygments_lexer": "ipython3",
   "version": "3.9.13"
  },
  "vscode": {
   "interpreter": {
    "hash": "db7489260ebdcdad1ef978e7fcead2cad7bc27f0d3d927d2b0e6a1b63a701ab3"
   }
  }
 },
 "nbformat": 4,
 "nbformat_minor": 2
}
